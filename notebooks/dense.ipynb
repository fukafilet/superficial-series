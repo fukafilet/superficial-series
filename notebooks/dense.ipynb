{
 "cells": [
  {
   "cell_type": "markdown",
   "metadata": {},
   "source": [
    "# 表層的ディープラーニング入門 \n",
    "## 第1回「Denseです」\n",
    "* ディープラーニングでできることの概要を知る\n",
    "    * ディープラーニング: 層の多いニューラルネットワーク + 最近わかったノウハウ\n",
    "* 全結合層を用いたディープラーニングを試してみる\n",
    "    * 性能向上や速い学習のために、いくつか押さえておくポイントがある\n",
    "        * ランダマイズ\n",
    "        * データ正規化\n",
    "    * 備考\n",
    "        * 今回は数値から数値へと変換する例\n",
    "        * 数値以外のものを数値として扱う方法もある（各自調べる or 次回説明する）"
   ]
  },
  {
   "cell_type": "markdown",
   "metadata": {},
   "source": [
    "## 1. ディープラーニングとは\n",
    "* y = function( x ) を作る\n",
    "    * (x,y) = (天気, おでんの売上), (画像, 猫or犬), (音楽, ジャンル), (文章, 印象)\n",
    "* def function( x ): ... return y を書く代わりに\n",
    "    * データ (画像1, 猫), (画像2, 犬), (画像3, 猫), ... , (画像5312, 猫) を集める\n",
    "    * ニューラルネットワークに画像を入力すると、正しく犬猫が判別できるようにパラメタを調整する\n",
    "    * 調整されたパラメタを使って、(画像, ?)に対して犬か猫かを判別する"
   ]
  },
  {
   "cell_type": "markdown",
   "metadata": {},
   "source": [
    "## 2. さっそく試す: 手書き数字の識別\n",
    "* Optical Recognition of Handwritten Digits Data Set\n",
    "* C. Kaynak (1995) Methods of Combining Multiple Classifiers and Their Applications to Handwritten Digit Recognition, MSc Thesis, Institute of Graduate Studies in Science and Engineering, Bogazici University. "
   ]
  },
  {
   "cell_type": "code",
   "execution_count": 166,
   "metadata": {},
   "outputs": [],
   "source": [
    "import numpy as np\n",
    "import matplotlib.pyplot as plt\n",
    "from keras.utils import np_utils"
   ]
  },
  {
   "cell_type": "code",
   "execution_count": 167,
   "metadata": {},
   "outputs": [],
   "source": [
    "from keras.layers import Input, Dense\n",
    "from keras.models import Model"
   ]
  },
  {
   "cell_type": "code",
   "execution_count": 168,
   "metadata": {},
   "outputs": [],
   "source": [
    "from sklearn.datasets import load_digits\n",
    "digits = load_digits(n_class=10)"
   ]
  },
  {
   "cell_type": "code",
   "execution_count": 194,
   "metadata": {},
   "outputs": [
    {
     "name": "stdout",
     "output_type": "stream",
     "text": [
      "(1797, 64)\n"
     ]
    },
    {
     "data": {
      "image/png": "[encoded data removed]",
      "text/plain": [
       "<Figure size 432x288 with 1 Axes>"
      ]
     },
     "metadata": {
      "needs_background": "light"
     },
     "output_type": "display_data"
    },
    {
     "name": "stdout",
     "output_type": "stream",
     "text": [
      "1\n"
     ]
    }
   ],
   "source": [
    "print(digits.data.shape)\n",
    "#\n",
    "plt.imshow(digits.data[1].reshape([8,8]), cmap='binary')\n",
    "plt.show()\n",
    "print(digits.target[1])"
   ]
  },
  {
   "cell_type": "code",
   "execution_count": 195,
   "metadata": {},
   "outputs": [],
   "source": [
    "def fc_layers():\n",
    "    \n",
    "    inputs = Input(shape=(64,))\n",
    "    x = Dense(32, activation='relu')(inputs)\n",
    "    outputs = Dense(10, activation='softmax')(x)\n",
    "    \n",
    "    model = Model(inputs=inputs, outputs=outputs)\n",
    "    model.compile(optimizer='adam',\n",
    "                  loss='categorical_crossentropy')\n",
    "    \n",
    "    return model"
   ]
  },
  {
   "cell_type": "code",
   "execution_count": 196,
   "metadata": {},
   "outputs": [
    {
     "name": "stdout",
     "output_type": "stream",
     "text": [
      "_________________________________________________________________\n",
      "Layer (type)                 Output Shape              Param #   \n",
      "=================================================================\n",
      "input_22 (InputLayer)        (None, 64)                0         \n",
      "_________________________________________________________________\n",
      "dense_33 (Dense)             (None, 32)                2080      \n",
      "_________________________________________________________________\n",
      "dense_34 (Dense)             (None, 10)                330       \n",
      "=================================================================\n",
      "Total params: 2,410\n",
      "Trainable params: 2,410\n",
      "Non-trainable params: 0\n",
      "_________________________________________________________________\n"
     ]
    }
   ],
   "source": [
    "model = fc_layers()\n",
    "model.summary()"
   ]
  },
  {
   "cell_type": "code",
   "execution_count": 197,
   "metadata": {},
   "outputs": [
    {
     "name": "stdout",
     "output_type": "stream",
     "text": [
      "[0 1 2 ... 8 9 8]\n"
     ]
    },
    {
     "data": {
      "text/plain": [
       "array([[1., 0., 0., ..., 0., 0., 0.],\n",
       "       [0., 1., 0., ..., 0., 0., 0.],\n",
       "       [0., 0., 1., ..., 0., 0., 0.],\n",
       "       ...,\n",
       "       [0., 0., 0., ..., 0., 1., 0.],\n",
       "       [0., 0., 0., ..., 0., 0., 1.],\n",
       "       [0., 0., 0., ..., 0., 1., 0.]], dtype=float32)"
      ]
     },
     "execution_count": 197,
     "metadata": {},
     "output_type": "execute_result"
    }
   ],
   "source": [
    "print(digits.target)\n",
    "np_utils.to_categorical(digits.target)"
   ]
  },
  {
   "cell_type": "code",
   "execution_count": 198,
   "metadata": {},
   "outputs": [],
   "source": [
    "# 入力と出力\n",
    "X = digits.data\n",
    "Y = np_utils.to_categorical(digits.target)\n",
    "\n",
    "# 学習データとテストデータ\n",
    "ind = list(range(1797))\n",
    "np.random.shuffle(ind)\n",
    "X_train = X[ind[:1600]]\n",
    "Y_train = Y[ind[:1600]]\n",
    "X_test = X[ind[1600:]]\n",
    "Y_test = Y[ind[1600:]]"
   ]
  },
  {
   "cell_type": "code",
   "execution_count": 199,
   "metadata": {},
   "outputs": [],
   "source": [
    "xm = np.mean(X_train, axis=0)\n",
    "xs = np.std(X_train, axis=0)\n",
    "X_train = (X_train - xm) / (xs+0.0000001)"
   ]
  },
  {
   "cell_type": "code",
   "execution_count": 200,
   "metadata": {},
   "outputs": [],
   "source": [
    "fitting = model.fit(X_train, Y_train, epochs=200, verbose=0)  "
   ]
  },
  {
   "cell_type": "code",
   "execution_count": 201,
   "metadata": {},
   "outputs": [
    {
     "data": {
      "image/png": "[encoded data removed]",
      "text/plain": [
       "<Figure size 432x288 with 1 Axes>"
      ]
     },
     "metadata": {
      "needs_background": "light"
     },
     "output_type": "display_data"
    }
   ],
   "source": [
    "fig, ax1 = plt.subplots()\n",
    "\n",
    "plt.title('training summary')\n",
    "ax1.plot(fitting.history['loss'], '-', label='loss', c='black')\n",
    "ax1.set_xlabel('epoch')\n",
    "ax1.set_ylabel('loss')\n",
    "ax1.legend()\n",
    "\n",
    "plt.show()"
   ]
  },
  {
   "cell_type": "code",
   "execution_count": 202,
   "metadata": {},
   "outputs": [
    {
     "name": "stdout",
     "output_type": "stream",
     "text": [
      "[6 9 2 8 6 3 9 1 8 0 1 6 0 0 1 1 2 8 1 8 9 5 3 6 3 4 8 7 2 0 8 3 4 5 7 0 1\n",
      " 5 2 8 0 5 5 8 4 7 6 5 4 6 1 3 9 3 1 1 0 4 3 1 1 3 0 7 0 2 0 6 3 5 0 1 7 8\n",
      " 6 8 5 6 6 8 3 2 4 8 1 1 9 1 7 4 2 9 7 3 9 7 5 4 5 5 5 9 9 4 8 7 1 0 9 0 7\n",
      " 3 9 3 3 5 9 9 5 3 6 6 6 5 8 1 2 0 2 8 4 6 4 0 7 3 0 4 7 9 8 9 3 3 0 7 0 2\n",
      " 1 0 0 3 1 2 6 4 2 9 6 0 9 2 3 8 6 4 7 8 7 5 9 7 4 8 8 5 8 2 4 3 5 9 3 4 3\n",
      " 1 2 2 6 8 7 2 5 5 1 6 9]\n",
      "[6 9 2 8 6 3 9 1 8 0 1 6 0 0 1 1 2 8 1 8 9 5 3 6 3 4 8 7 2 0 8 3 4 5 7 0 1\n",
      " 5 2 8 0 9 5 8 4 7 6 5 4 6 1 3 9 3 1 1 0 4 3 1 1 3 0 7 0 2 0 6 3 5 0 1 7 8\n",
      " 6 8 5 6 6 8 3 2 4 9 1 1 9 1 7 4 2 9 7 3 9 7 5 4 5 5 5 9 9 4 8 7 1 0 9 0 7\n",
      " 3 9 3 3 5 9 9 5 3 6 6 6 5 8 1 2 0 2 8 4 6 4 0 7 3 0 4 7 9 8 9 3 3 0 7 0 2\n",
      " 1 0 0 3 1 2 6 2 2 9 6 0 9 2 3 8 6 4 7 8 7 5 9 7 4 8 8 8 8 2 4 9 5 9 3 4 3\n",
      " 1 2 2 6 8 7 2 5 5 1 6 9]\n"
     ]
    }
   ],
   "source": [
    "Y_pred = model.predict((X_test - xm)/(xs+0.000001))\n",
    "print(np.argmax(Y_pred, axis=1))\n",
    "print(np.argmax(Y_test, axis=1))"
   ]
  },
  {
   "cell_type": "code",
   "execution_count": 203,
   "metadata": {},
   "outputs": [],
   "source": [
    "def accuracy(x, y):\n",
    "    return np.sum(x==y) / (1.0*len(x))"
   ]
  },
  {
   "cell_type": "code",
   "execution_count": 204,
   "metadata": {},
   "outputs": [
    {
     "data": {
      "text/plain": [
       "0.9746192893401016"
      ]
     },
     "execution_count": 204,
     "metadata": {},
     "output_type": "execute_result"
    }
   ],
   "source": [
    "accuracy(np.argmax(Y_pred, axis=1), np.argmax(Y_test, axis=1))"
   ]
  },
  {
   "cell_type": "markdown",
   "metadata": {},
   "source": [
    "### 入力データ正規化の効果"
   ]
  },
  {
   "cell_type": "code",
   "execution_count": 205,
   "metadata": {},
   "outputs": [
    {
     "name": "stdout",
     "output_type": "stream",
     "text": [
      "_________________________________________________________________\n",
      "Layer (type)                 Output Shape              Param #   \n",
      "=================================================================\n",
      "input_23 (InputLayer)        (None, 64)                0         \n",
      "_________________________________________________________________\n",
      "dense_35 (Dense)             (None, 32)                2080      \n",
      "_________________________________________________________________\n",
      "dense_36 (Dense)             (None, 10)                330       \n",
      "=================================================================\n",
      "Total params: 2,410\n",
      "Trainable params: 2,410\n",
      "Non-trainable params: 0\n",
      "_________________________________________________________________\n"
     ]
    }
   ],
   "source": [
    "model = fc_layers()\n",
    "model.summary()"
   ]
  },
  {
   "cell_type": "code",
   "execution_count": 206,
   "metadata": {},
   "outputs": [],
   "source": [
    "# 入力と出力\n",
    "X = digits.data\n",
    "Y = np_utils.to_categorical(digits.target)\n",
    "\n",
    "# 学習データとテストデータ\n",
    "ind = list(range(1797))\n",
    "np.random.shuffle(ind)\n",
    "X_train = X[ind[:1600]]\n",
    "Y_train = Y[ind[:1600]]\n",
    "X_test = X[ind[1600:]]\n",
    "Y_test = Y[ind[1600:]]"
   ]
  },
  {
   "cell_type": "code",
   "execution_count": 207,
   "metadata": {},
   "outputs": [],
   "source": [
    "fitting = model.fit(X_train, Y_train, epochs=200, verbose=0)  "
   ]
  },
  {
   "cell_type": "code",
   "execution_count": 208,
   "metadata": {},
   "outputs": [
    {
     "data": {
      "image/png": "[encoded data removed]",
      "text/plain": [
       "<Figure size 432x288 with 1 Axes>"
      ]
     },
     "metadata": {
      "needs_background": "light"
     },
     "output_type": "display_data"
    }
   ],
   "source": [
    "fig, ax1 = plt.subplots()\n",
    "\n",
    "plt.title('training summary')\n",
    "ax1.plot(fitting.history['loss'], '-', label='loss', c='black')\n",
    "ax1.set_xlabel('epoch')\n",
    "ax1.set_ylabel('loss')\n",
    "ax1.legend()\n",
    "\n",
    "plt.show()"
   ]
  },
  {
   "cell_type": "code",
   "execution_count": 209,
   "metadata": {},
   "outputs": [
    {
     "name": "stdout",
     "output_type": "stream",
     "text": [
      "[2 7 9 2 3 9 2 5 7 4 0 5 3 5 4 6 2 6 5 6 9 4 8 9 0 4 0 7 2 4 1 4 1 8 3 8 7\n",
      " 0 2 9 8 6 2 5 4 0 5 9 6 2 3 8 5 2 7 9 1 4 9 9 7 8 2 5 7 8 6 5 4 5 6 5 5 0\n",
      " 9 6 8 9 9 3 7 8 5 9 0 6 6 8 8 4 8 4 7 9 0 8 4 8 4 7 0 3 4 8 9 9 6 0 7 3 1\n",
      " 7 9 2 7 9 1 3 9 5 9 1 8 7 3 2 7 7 7 2 3 7 4 4 0 9 4 9 7 7 4 6 3 1 4 6 6 6\n",
      " 5 7 9 9 7 8 5 6 0 9 6 4 5 9 5 4 3 3 8 6 3 2 5 0 2 5 5 7 0 9 0 2 9 2 8 9 9\n",
      " 2 4 2 4 4 3 1 6 8 4 4 9]\n",
      "[2 7 9 2 3 9 2 5 9 4 0 7 3 5 4 6 2 6 5 6 9 4 8 5 0 0 0 7 2 1 1 4 1 1 3 2 7\n",
      " 0 2 8 8 6 2 5 4 0 5 9 6 2 3 2 5 2 0 3 9 0 8 9 7 3 2 5 7 1 6 9 4 7 6 5 5 0\n",
      " 9 6 5 8 9 5 1 8 5 9 0 6 6 8 8 4 1 4 7 9 0 1 4 8 4 7 0 1 4 1 9 9 6 0 7 2 1\n",
      " 7 9 2 7 7 1 1 7 5 9 1 8 7 3 2 7 6 7 2 3 5 4 1 0 9 9 8 9 7 6 6 3 1 4 6 6 6\n",
      " 3 7 9 9 7 8 5 6 0 9 6 4 5 9 5 4 3 3 2 6 2 2 5 0 2 5 5 0 0 9 0 2 8 2 6 9 9\n",
      " 2 4 2 4 4 3 1 6 8 4 4 9]\n"
     ]
    }
   ],
   "source": [
    "Y_pred = model.predict((X_test - xm)/(xs+0.000001))\n",
    "print(np.argmax(Y_pred, axis=1))\n",
    "print(np.argmax(Y_test, axis=1))"
   ]
  },
  {
   "cell_type": "code",
   "execution_count": 210,
   "metadata": {},
   "outputs": [
    {
     "data": {
      "text/plain": [
       "0.7817258883248731"
      ]
     },
     "execution_count": 210,
     "metadata": {},
     "output_type": "execute_result"
    }
   ],
   "source": [
    "accuracy(np.argmax(Y_pred, axis=1), np.argmax(Y_test, axis=1))"
   ]
  },
  {
   "cell_type": "code",
   "execution_count": null,
   "metadata": {},
   "outputs": [],
   "source": []
  }
 ],
 "metadata": {
  "kernelspec": {
   "display_name": "Python 3",
   "language": "python",
   "name": "python3"
  },
  "language_info": {
   "codemirror_mode": {
    "name": "ipython",
    "version": 3
   },
   "file_extension": ".py",
   "mimetype": "text/x-python",
   "name": "python",
   "nbconvert_exporter": "python",
   "pygments_lexer": "ipython3",
   "version": "3.6.7"
  }
 },
 "nbformat": 4,
 "nbformat_minor": 2
}
